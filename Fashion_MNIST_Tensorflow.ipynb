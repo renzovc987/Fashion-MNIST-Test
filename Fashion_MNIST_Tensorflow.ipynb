{
  "nbformat": 4,
  "nbformat_minor": 0,
  "metadata": {
    "colab": {
      "provenance": []
    },
    "kernelspec": {
      "name": "python3",
      "display_name": "Python 3"
    }
  },
  "cells": [
    {
      "cell_type": "markdown",
      "metadata": {
        "id": "1mZ0AkPGy-5H"
      },
      "source": [
        "En primer lugar vamos a importar tensorflow y vamos a comprobar su versión"
      ]
    },
    {
      "cell_type": "code",
      "metadata": {
        "id": "GslliYB_ozZm",
        "colab": {
          "base_uri": "https://localhost:8080/"
        },
        "outputId": "c573c1b5-84fa-46a6-e3f3-997f074442ca"
      },
      "source": [
        "import tensorflow as tf\n",
        "print(tf.__version__)"
      ],
      "execution_count": null,
      "outputs": [
        {
          "output_type": "stream",
          "name": "stdout",
          "text": [
            "2.13.0\n"
          ]
        }
      ]
    },
    {
      "cell_type": "markdown",
      "metadata": {
        "id": "yGMaaCs-zEVE"
      },
      "source": [
        "Ahora, vamos a importar keras y numpy"
      ]
    },
    {
      "cell_type": "code",
      "metadata": {
        "id": "9aO6vcTTrjS2"
      },
      "source": [
        "from tensorflow import keras\n",
        "import numpy as np"
      ],
      "execution_count": null,
      "outputs": []
    },
    {
      "cell_type": "markdown",
      "metadata": {
        "id": "SRUR0wg9zHxE"
      },
      "source": [
        "**Construcción de una clasificador de imagenes utilizando una API secuencial**"
      ]
    },
    {
      "cell_type": "markdown",
      "metadata": {
        "id": "UFN1hUHWzP4e"
      },
      "source": [
        "vamos a cargar ahora uno de los dataset de entrenamiento de keras, el reconocimiento de los digitos"
      ]
    },
    {
      "cell_type": "code",
      "metadata": {
        "id": "0miFgVAtruf3"
      },
      "source": [
        "fashion_mnist = keras.datasets.fashion_mnist\n",
        "(X_train_full, y_train_full), (X_test, y_test) = fashion_mnist.load_data()"
      ],
      "execution_count": null,
      "outputs": []
    },
    {
      "cell_type": "markdown",
      "metadata": {
        "id": "VBZkKLzJzZ-3"
      },
      "source": [
        "Vamos a ver el tamaño del dataset, y el tamaño de la imagen"
      ]
    },
    {
      "cell_type": "code",
      "metadata": {
        "id": "-_4RNsYasB8Y",
        "colab": {
          "base_uri": "https://localhost:8080/"
        },
        "outputId": "6d7da55a-064c-4921-a6fe-8b4bfa76ba4b"
      },
      "source": [
        "X_train_full.shape"
      ],
      "execution_count": null,
      "outputs": [
        {
          "output_type": "execute_result",
          "data": {
            "text/plain": [
              "(60000, 28, 28)"
            ]
          },
          "metadata": {},
          "execution_count": 43
        }
      ]
    },
    {
      "cell_type": "markdown",
      "metadata": {
        "id": "53w90QKLzfYw"
      },
      "source": [
        "Aqui comprobamos el tipo de dato"
      ]
    },
    {
      "cell_type": "code",
      "metadata": {
        "id": "CkuxMLUesG2y",
        "colab": {
          "base_uri": "https://localhost:8080/"
        },
        "outputId": "a215e492-7a83-4818-afe8-8443a889de20"
      },
      "source": [
        "X_train_full.dtype"
      ],
      "execution_count": null,
      "outputs": [
        {
          "output_type": "execute_result",
          "data": {
            "text/plain": [
              "dtype('uint8')"
            ]
          },
          "metadata": {},
          "execution_count": 44
        }
      ]
    },
    {
      "cell_type": "code",
      "source": [
        "np.set_printoptions(linewidth=200)\n",
        "print(X_train_full[0])"
      ],
      "metadata": {
        "colab": {
          "base_uri": "https://localhost:8080/"
        },
        "id": "Pr9TGpO2cY-x",
        "outputId": "965189ea-5a1d-42c6-ae90-e04745a3632a"
      },
      "execution_count": null,
      "outputs": [
        {
          "output_type": "stream",
          "name": "stdout",
          "text": [
            "[[  0   0   0   0   0   0   0   0   0   0   0   0   0   0   0   0   0   0   0   0   0   0   0   0   0   0   0   0]\n",
            " [  0   0   0   0   0   0   0   0   0   0   0   0   0   0   0   0   0   0   0   0   0   0   0   0   0   0   0   0]\n",
            " [  0   0   0   0   0   0   0   0   0   0   0   0   0   0   0   0   0   0   0   0   0   0   0   0   0   0   0   0]\n",
            " [  0   0   0   0   0   0   0   0   0   0   0   0   1   0   0  13  73   0   0   1   4   0   0   0   0   1   1   0]\n",
            " [  0   0   0   0   0   0   0   0   0   0   0   0   3   0  36 136 127  62  54   0   0   0   1   3   4   0   0   3]\n",
            " [  0   0   0   0   0   0   0   0   0   0   0   0   6   0 102 204 176 134 144 123  23   0   0   0   0  12  10   0]\n",
            " [  0   0   0   0   0   0   0   0   0   0   0   0   0   0 155 236 207 178 107 156 161 109  64  23  77 130  72  15]\n",
            " [  0   0   0   0   0   0   0   0   0   0   0   1   0  69 207 223 218 216 216 163 127 121 122 146 141  88 172  66]\n",
            " [  0   0   0   0   0   0   0   0   0   1   1   1   0 200 232 232 233 229 223 223 215 213 164 127 123 196 229   0]\n",
            " [  0   0   0   0   0   0   0   0   0   0   0   0   0 183 225 216 223 228 235 227 224 222 224 221 223 245 173   0]\n",
            " [  0   0   0   0   0   0   0   0   0   0   0   0   0 193 228 218 213 198 180 212 210 211 213 223 220 243 202   0]\n",
            " [  0   0   0   0   0   0   0   0   0   1   3   0  12 219 220 212 218 192 169 227 208 218 224 212 226 197 209  52]\n",
            " [  0   0   0   0   0   0   0   0   0   0   6   0  99 244 222 220 218 203 198 221 215 213 222 220 245 119 167  56]\n",
            " [  0   0   0   0   0   0   0   0   0   4   0   0  55 236 228 230 228 240 232 213 218 223 234 217 217 209  92   0]\n",
            " [  0   0   1   4   6   7   2   0   0   0   0   0 237 226 217 223 222 219 222 221 216 223 229 215 218 255  77   0]\n",
            " [  0   3   0   0   0   0   0   0   0  62 145 204 228 207 213 221 218 208 211 218 224 223 219 215 224 244 159   0]\n",
            " [  0   0   0   0  18  44  82 107 189 228 220 222 217 226 200 205 211 230 224 234 176 188 250 248 233 238 215   0]\n",
            " [  0  57 187 208 224 221 224 208 204 214 208 209 200 159 245 193 206 223 255 255 221 234 221 211 220 232 246   0]\n",
            " [  3 202 228 224 221 211 211 214 205 205 205 220 240  80 150 255 229 221 188 154 191 210 204 209 222 228 225   0]\n",
            " [ 98 233 198 210 222 229 229 234 249 220 194 215 217 241  65  73 106 117 168 219 221 215 217 223 223 224 229  29]\n",
            " [ 75 204 212 204 193 205 211 225 216 185 197 206 198 213 240 195 227 245 239 223 218 212 209 222 220 221 230  67]\n",
            " [ 48 203 183 194 213 197 185 190 194 192 202 214 219 221 220 236 225 216 199 206 186 181 177 172 181 205 206 115]\n",
            " [  0 122 219 193 179 171 183 196 204 210 213 207 211 210 200 196 194 191 195 191 198 192 176 156 167 177 210  92]\n",
            " [  0   0  74 189 212 191 175 172 175 181 185 188 189 188 193 198 204 209 210 210 211 188 188 194 192 216 170   0]\n",
            " [  2   0   0   0  66 200 222 237 239 242 246 243 244 221 220 193 191 179 182 182 181 176 166 168  99  58   0   0]\n",
            " [  0   0   0   0   0   0   0  40  61  44  72  41  35   0   0   0   0   0   0   0   0   0   0   0   0   0   0   0]\n",
            " [  0   0   0   0   0   0   0   0   0   0   0   0   0   0   0   0   0   0   0   0   0   0   0   0   0   0   0   0]\n",
            " [  0   0   0   0   0   0   0   0   0   0   0   0   0   0   0   0   0   0   0   0   0   0   0   0   0   0   0   0]]\n"
          ]
        }
      ]
    },
    {
      "cell_type": "code",
      "source": [
        "import matplotlib.pyplot as plt\n",
        "plt.imshow(X_train_full[0], cmap='gray')"
      ],
      "metadata": {
        "colab": {
          "base_uri": "https://localhost:8080/",
          "height": 448
        },
        "id": "WUm0WVpNcufB",
        "outputId": "9703fd6c-2bd1-41f1-8d55-8ad122549978"
      },
      "execution_count": null,
      "outputs": [
        {
          "output_type": "execute_result",
          "data": {
            "text/plain": [
              "<matplotlib.image.AxesImage at 0x7cc3bae29540>"
            ]
          },
          "metadata": {},
          "execution_count": 46
        },
        {
          "output_type": "display_data",
          "data": {
            "text/plain": [
              "<Figure size 640x480 with 1 Axes>"
            ],
            "image/png": "[encoded data removed]"
          },
          "metadata": {}
        }
      ]
    },
    {
      "cell_type": "markdown",
      "metadata": {
        "id": "d0jeX5SpzjXD"
      },
      "source": [
        "Rescalado de datos, de 0 a 1"
      ]
    },
    {
      "cell_type": "code",
      "metadata": {
        "id": "xpEDt1-vtHPt"
      },
      "source": [
        "X_valid, X_train = X_train_full[:5000]/255.0, X_train_full[5000:]/255.0\n",
        "y_valid, y_train = y_train_full[:5000], y_train_full[5000:]"
      ],
      "execution_count": null,
      "outputs": []
    },
    {
      "cell_type": "markdown",
      "metadata": {
        "id": "1G3bxTKSztOV"
      },
      "source": [
        "Le damos un nombre a cada una de las clases"
      ]
    },
    {
      "cell_type": "code",
      "source": [
        "y_train_full[0]"
      ],
      "metadata": {
        "colab": {
          "base_uri": "https://localhost:8080/"
        },
        "id": "tKjkg39Wc9wn",
        "outputId": "3eec823b-f437-4264-ea4e-41f1c4601138"
      },
      "execution_count": null,
      "outputs": [
        {
          "output_type": "execute_result",
          "data": {
            "text/plain": [
              "9"
            ]
          },
          "metadata": {},
          "execution_count": 48
        }
      ]
    },
    {
      "cell_type": "code",
      "metadata": {
        "id": "n9f4tHyYteBV",
        "colab": {
          "base_uri": "https://localhost:8080/",
          "height": 36
        },
        "outputId": "85f02edf-fa93-4d21-d779-e432f29327a5"
      },
      "source": [
        "class_names = [\"T-shirt/top\", \"Trouser\", \"Pullover\", \"Dress\", \"Coat\", \"Sandal\", \"Shirt\", \"Sneaker\", \"Bag\", \"Ankle boot\"]\n",
        "class_names[y_train[0]]"
      ],
      "execution_count": null,
      "outputs": [
        {
          "output_type": "execute_result",
          "data": {
            "text/plain": [
              "'Coat'"
            ],
            "application/vnd.google.colaboratory.intrinsic+json": {
              "type": "string"
            }
          },
          "metadata": {},
          "execution_count": 49
        }
      ]
    },
    {
      "cell_type": "markdown",
      "metadata": {
        "id": "Jziy9c1ct298"
      },
      "source": [
        "**Creación del modelo usando una API secuencial**"
      ]
    },
    {
      "cell_type": "code",
      "metadata": {
        "id": "L_0JeVVtt7TS"
      },
      "source": [
        "model= keras.models.Sequential()\n",
        "model.add(keras.layers.Flatten(input_shape=[28,28]))\n",
        "model.add(keras.layers.Dense(300, activation=\"relu\"))\n",
        "model.add(keras.layers.Dense(300, activation=\"relu\"))\n",
        "model.add(keras.layers.Dense(10, activation=\"softmax\"))"
      ],
      "execution_count": null,
      "outputs": []
    },
    {
      "cell_type": "markdown",
      "metadata": {
        "id": "u99nsTc2ulek"
      },
      "source": [
        "otra forma de hacer esta misma operación de añadir capas:\n"
      ]
    },
    {
      "cell_type": "code",
      "metadata": {
        "id": "HTD2UE8Du04I"
      },
      "source": [
        "# model= keras.models.Sequential([]\n",
        "#    keras.layers.Flatten(input_shape=[28,28])\n",
        "#    keras.layers.Dense(300, activation=\"relu\")\n",
        "#    keras.layers.Dense(300, activation=\"relu\")\n",
        "#    keras.layers.Dense(10, activation=\"softmax\")\n",
        "#])"
      ],
      "execution_count": null,
      "outputs": []
    },
    {
      "cell_type": "code",
      "metadata": {
        "id": "mwtKqraEu9OD",
        "colab": {
          "base_uri": "https://localhost:8080/"
        },
        "outputId": "fc761fb7-ad72-40aa-bd3f-30de5183edb7"
      },
      "source": [
        "model.summary()"
      ],
      "execution_count": null,
      "outputs": [
        {
          "output_type": "stream",
          "name": "stdout",
          "text": [
            "Model: \"sequential_1\"\n",
            "_________________________________________________________________\n",
            " Layer (type)                Output Shape              Param #   \n",
            "=================================================================\n",
            " flatten_1 (Flatten)         (None, 784)               0         \n",
            "                                                                 \n",
            " dense_3 (Dense)             (None, 300)               235500    \n",
            "                                                                 \n",
            " dense_4 (Dense)             (None, 300)               90300     \n",
            "                                                                 \n",
            " dense_5 (Dense)             (None, 10)                3010      \n",
            "                                                                 \n",
            "=================================================================\n",
            "Total params: 328810 (1.25 MB)\n",
            "Trainable params: 328810 (1.25 MB)\n",
            "Non-trainable params: 0 (0.00 Byte)\n",
            "_________________________________________________________________\n"
          ]
        }
      ]
    },
    {
      "cell_type": "markdown",
      "metadata": {
        "id": "JRvQRkBevFxJ"
      },
      "source": [
        "Vamos ahora a ver las capas"
      ]
    },
    {
      "cell_type": "code",
      "metadata": {
        "id": "OBaU3d6ovHTo",
        "colab": {
          "base_uri": "https://localhost:8080/"
        },
        "outputId": "8363799e-f000-40bd-9a8f-169e862f2f2e"
      },
      "source": [
        "model.layers"
      ],
      "execution_count": null,
      "outputs": [
        {
          "output_type": "execute_result",
          "data": {
            "text/plain": [
              "[<keras.src.layers.reshaping.flatten.Flatten at 0x7cc3bb79b2e0>,\n",
              " <keras.src.layers.core.dense.Dense at 0x7cc3bae59e70>,\n",
              " <keras.src.layers.core.dense.Dense at 0x7cc3bae7d7e0>,\n",
              " <keras.src.layers.core.dense.Dense at 0x7cc3bae7cf70>]"
            ]
          },
          "metadata": {},
          "execution_count": 53
        }
      ]
    },
    {
      "cell_type": "markdown",
      "metadata": {
        "id": "WhrL7chivNMR"
      },
      "source": [
        "algunas operaciones y comando interesantes"
      ]
    },
    {
      "cell_type": "code",
      "metadata": {
        "id": "acDaiQxVvPc9",
        "colab": {
          "base_uri": "https://localhost:8080/",
          "height": 36
        },
        "outputId": "41d4e380-cbb3-471c-b1c6-c5e1208aa1f2"
      },
      "source": [
        "hidden1=model.layers[1]\n",
        "hidden1.name"
      ],
      "execution_count": null,
      "outputs": [
        {
          "output_type": "execute_result",
          "data": {
            "text/plain": [
              "'dense_3'"
            ],
            "application/vnd.google.colaboratory.intrinsic+json": {
              "type": "string"
            }
          },
          "metadata": {},
          "execution_count": 54
        }
      ]
    },
    {
      "cell_type": "markdown",
      "metadata": {
        "id": "8q0gezVyvl1y"
      },
      "source": [
        "Todos los parametros de una capa estan accesibles utilizando \"get_weights()\" y \"set_weights()\""
      ]
    },
    {
      "cell_type": "code",
      "metadata": {
        "id": "7BM6R0DSvtl_",
        "colab": {
          "base_uri": "https://localhost:8080/"
        },
        "outputId": "e5232c53-831d-45b4-b179-781cbc6a70f8"
      },
      "source": [
        "weights, biases = hidden1.get_weights()\n",
        "weights"
      ],
      "execution_count": null,
      "outputs": [
        {
          "output_type": "execute_result",
          "data": {
            "text/plain": [
              "array([[ 0.04722939, -0.03846778, -0.03980218, ..., -0.0532432 , -0.07057525,  0.00306943],\n",
              "       [-0.0317075 ,  0.06796603,  0.05585504, ..., -0.0487368 ,  0.03203128,  0.07436429],\n",
              "       [-0.03886316,  0.00941908,  0.01296501, ..., -0.02126882,  0.04403529,  0.02414234],\n",
              "       ...,\n",
              "       [ 0.04856745,  0.02597047, -0.02753534, ..., -0.04107516, -0.06934146, -0.00409312],\n",
              "       [ 0.00311136,  0.00258957, -0.06866039, ..., -0.04701762,  0.03956278,  0.01855619],\n",
              "       [ 0.06548211, -0.04534287,  0.03854463, ...,  0.01435592,  0.01060731, -0.05726008]], dtype=float32)"
            ]
          },
          "metadata": {},
          "execution_count": 55
        }
      ]
    },
    {
      "cell_type": "code",
      "metadata": {
        "id": "z1Cl_v-Wv1uU",
        "colab": {
          "base_uri": "https://localhost:8080/"
        },
        "outputId": "2956fcfc-fdbe-41cf-f39f-be9faa85e87d"
      },
      "source": [
        "weights.shape"
      ],
      "execution_count": null,
      "outputs": [
        {
          "output_type": "execute_result",
          "data": {
            "text/plain": [
              "(784, 300)"
            ]
          },
          "metadata": {},
          "execution_count": 56
        }
      ]
    },
    {
      "cell_type": "code",
      "metadata": {
        "id": "FLAfB6ELv4i2",
        "colab": {
          "base_uri": "https://localhost:8080/"
        },
        "outputId": "ac1f97b8-b08e-4af9-9b2d-4d37f91b3205"
      },
      "source": [
        "biases"
      ],
      "execution_count": null,
      "outputs": [
        {
          "output_type": "execute_result",
          "data": {
            "text/plain": [
              "array([0., 0., 0., 0., 0., 0., 0., 0., 0., 0., 0., 0., 0., 0., 0., 0., 0., 0., 0., 0., 0., 0., 0., 0., 0., 0., 0., 0., 0., 0., 0., 0., 0., 0., 0., 0., 0., 0., 0., 0., 0., 0., 0., 0., 0., 0., 0., 0.,\n",
              "       0., 0., 0., 0., 0., 0., 0., 0., 0., 0., 0., 0., 0., 0., 0., 0., 0., 0., 0., 0., 0., 0., 0., 0., 0., 0., 0., 0., 0., 0., 0., 0., 0., 0., 0., 0., 0., 0., 0., 0., 0., 0., 0., 0., 0., 0., 0., 0.,\n",
              "       0., 0., 0., 0., 0., 0., 0., 0., 0., 0., 0., 0., 0., 0., 0., 0., 0., 0., 0., 0., 0., 0., 0., 0., 0., 0., 0., 0., 0., 0., 0., 0., 0., 0., 0., 0., 0., 0., 0., 0., 0., 0., 0., 0., 0., 0., 0., 0.,\n",
              "       0., 0., 0., 0., 0., 0., 0., 0., 0., 0., 0., 0., 0., 0., 0., 0., 0., 0., 0., 0., 0., 0., 0., 0., 0., 0., 0., 0., 0., 0., 0., 0., 0., 0., 0., 0., 0., 0., 0., 0., 0., 0., 0., 0., 0., 0., 0., 0.,\n",
              "       0., 0., 0., 0., 0., 0., 0., 0., 0., 0., 0., 0., 0., 0., 0., 0., 0., 0., 0., 0., 0., 0., 0., 0., 0., 0., 0., 0., 0., 0., 0., 0., 0., 0., 0., 0., 0., 0., 0., 0., 0., 0., 0., 0., 0., 0., 0., 0.,\n",
              "       0., 0., 0., 0., 0., 0., 0., 0., 0., 0., 0., 0., 0., 0., 0., 0., 0., 0., 0., 0., 0., 0., 0., 0., 0., 0., 0., 0., 0., 0., 0., 0., 0., 0., 0., 0., 0., 0., 0., 0., 0., 0., 0., 0., 0., 0., 0., 0.,\n",
              "       0., 0., 0., 0., 0., 0., 0., 0., 0., 0., 0., 0.], dtype=float32)"
            ]
          },
          "metadata": {},
          "execution_count": 57
        }
      ]
    },
    {
      "cell_type": "code",
      "metadata": {
        "id": "dv4-Cd3Cv6vk",
        "colab": {
          "base_uri": "https://localhost:8080/"
        },
        "outputId": "0a8aae1e-b91c-49a9-cab3-b3d02d8cf12f"
      },
      "source": [
        "biases.shape"
      ],
      "execution_count": null,
      "outputs": [
        {
          "output_type": "execute_result",
          "data": {
            "text/plain": [
              "(300,)"
            ]
          },
          "metadata": {},
          "execution_count": 58
        }
      ]
    },
    {
      "cell_type": "markdown",
      "metadata": {
        "id": "hKDZJtkGwA_Z"
      },
      "source": [
        "**Compilando el modelo**"
      ]
    },
    {
      "cell_type": "code",
      "metadata": {
        "id": "hcDPLpPawDvW"
      },
      "source": [
        "model.compile(loss=\"sparse_categorical_crossentropy\",\n",
        "              optimizer= \"sgd\",\n",
        "              metrics =[\"accuracy\"])\n"
      ],
      "execution_count": null,
      "outputs": []
    },
    {
      "cell_type": "markdown",
      "metadata": {
        "id": "9j7apDMWwc2E"
      },
      "source": [
        "**Entrenando y evaluando el modelo**"
      ]
    },
    {
      "cell_type": "code",
      "metadata": {
        "id": "4H1ZKeJAwh42",
        "colab": {
          "base_uri": "https://localhost:8080/"
        },
        "outputId": "794af94a-4f78-4dd5-96b0-e9aa872f4044"
      },
      "source": [
        "history = model.fit(X_train,y_train, epochs=30, validation_data=(X_valid, y_valid))"
      ],
      "execution_count": null,
      "outputs": [
        {
          "output_type": "stream",
          "name": "stdout",
          "text": [
            "Epoch 1/30\n",
            "1719/1719 [==============================] - 18s 10ms/step - loss: 0.7217 - accuracy: 0.7676 - val_loss: 0.5012 - val_accuracy: 0.8338\n",
            "Epoch 2/30\n",
            "1719/1719 [==============================] - 17s 10ms/step - loss: 0.4857 - accuracy: 0.8314 - val_loss: 0.4762 - val_accuracy: 0.8310\n",
            "Epoch 3/30\n",
            "1719/1719 [==============================] - 11s 6ms/step - loss: 0.4418 - accuracy: 0.8451 - val_loss: 0.4149 - val_accuracy: 0.8594\n",
            "Epoch 4/30\n",
            "1719/1719 [==============================] - 9s 5ms/step - loss: 0.4135 - accuracy: 0.8540 - val_loss: 0.3934 - val_accuracy: 0.8646\n",
            "Epoch 5/30\n",
            "1719/1719 [==============================] - 10s 6ms/step - loss: 0.3941 - accuracy: 0.8624 - val_loss: 0.3891 - val_accuracy: 0.8636\n",
            "Epoch 6/30\n",
            "1719/1719 [==============================] - 9s 6ms/step - loss: 0.3779 - accuracy: 0.8650 - val_loss: 0.3708 - val_accuracy: 0.8744\n",
            "Epoch 7/30\n",
            "1719/1719 [==============================] - 9s 5ms/step - loss: 0.3651 - accuracy: 0.8708 - val_loss: 0.3674 - val_accuracy: 0.8684\n",
            "Epoch 8/30\n",
            "1719/1719 [==============================] - 9s 5ms/step - loss: 0.3528 - accuracy: 0.8753 - val_loss: 0.3554 - val_accuracy: 0.8740\n",
            "Epoch 9/30\n",
            "1719/1719 [==============================] - 10s 6ms/step - loss: 0.3422 - accuracy: 0.8787 - val_loss: 0.3425 - val_accuracy: 0.8764\n",
            "Epoch 10/30\n",
            "1719/1719 [==============================] - 8s 5ms/step - loss: 0.3341 - accuracy: 0.8815 - val_loss: 0.3523 - val_accuracy: 0.8728\n",
            "Epoch 11/30\n",
            "1719/1719 [==============================] - 10s 6ms/step - loss: 0.3248 - accuracy: 0.8836 - val_loss: 0.3309 - val_accuracy: 0.8822\n",
            "Epoch 12/30\n",
            "1719/1719 [==============================] - 11s 6ms/step - loss: 0.3177 - accuracy: 0.8869 - val_loss: 0.3418 - val_accuracy: 0.8760\n",
            "Epoch 13/30\n",
            "1719/1719 [==============================] - 10s 6ms/step - loss: 0.3100 - accuracy: 0.8896 - val_loss: 0.3266 - val_accuracy: 0.8848\n",
            "Epoch 14/30\n",
            "1719/1719 [==============================] - 9s 5ms/step - loss: 0.3036 - accuracy: 0.8894 - val_loss: 0.3222 - val_accuracy: 0.8852\n",
            "Epoch 15/30\n",
            "1719/1719 [==============================] - 9s 5ms/step - loss: 0.2975 - accuracy: 0.8926 - val_loss: 0.3321 - val_accuracy: 0.8814\n",
            "Epoch 16/30\n",
            "1719/1719 [==============================] - 10s 6ms/step - loss: 0.2912 - accuracy: 0.8957 - val_loss: 0.3244 - val_accuracy: 0.8840\n",
            "Epoch 17/30\n",
            "1719/1719 [==============================] - 10s 6ms/step - loss: 0.2847 - accuracy: 0.8980 - val_loss: 0.3180 - val_accuracy: 0.8862\n",
            "Epoch 18/30\n",
            "1719/1719 [==============================] - 8s 5ms/step - loss: 0.2797 - accuracy: 0.9000 - val_loss: 0.3051 - val_accuracy: 0.8932\n",
            "Epoch 19/30\n",
            "1719/1719 [==============================] - 10s 6ms/step - loss: 0.2740 - accuracy: 0.9007 - val_loss: 0.3145 - val_accuracy: 0.8874\n",
            "Epoch 20/30\n",
            "1719/1719 [==============================] - 10s 6ms/step - loss: 0.2692 - accuracy: 0.9022 - val_loss: 0.3134 - val_accuracy: 0.8872\n",
            "Epoch 21/30\n",
            "1719/1719 [==============================] - 8s 5ms/step - loss: 0.2649 - accuracy: 0.9048 - val_loss: 0.2990 - val_accuracy: 0.8936\n",
            "Epoch 22/30\n",
            "1719/1719 [==============================] - 9s 5ms/step - loss: 0.2598 - accuracy: 0.9067 - val_loss: 0.3052 - val_accuracy: 0.8916\n",
            "Epoch 23/30\n",
            "1719/1719 [==============================] - 10s 6ms/step - loss: 0.2558 - accuracy: 0.9083 - val_loss: 0.3064 - val_accuracy: 0.8890\n",
            "Epoch 24/30\n",
            "1719/1719 [==============================] - 9s 6ms/step - loss: 0.2513 - accuracy: 0.9104 - val_loss: 0.2972 - val_accuracy: 0.8936\n",
            "Epoch 25/30\n",
            "1719/1719 [==============================] - 9s 5ms/step - loss: 0.2464 - accuracy: 0.9112 - val_loss: 0.3403 - val_accuracy: 0.8748\n",
            "Epoch 26/30\n",
            "1719/1719 [==============================] - 9s 5ms/step - loss: 0.2424 - accuracy: 0.9126 - val_loss: 0.2943 - val_accuracy: 0.8914\n",
            "Epoch 27/30\n",
            "1719/1719 [==============================] - 9s 6ms/step - loss: 0.2382 - accuracy: 0.9139 - val_loss: 0.2977 - val_accuracy: 0.8942\n",
            "Epoch 28/30\n",
            "1719/1719 [==============================] - 8s 5ms/step - loss: 0.2341 - accuracy: 0.9168 - val_loss: 0.2926 - val_accuracy: 0.8942\n",
            "Epoch 29/30\n",
            "1719/1719 [==============================] - 10s 6ms/step - loss: 0.2308 - accuracy: 0.9161 - val_loss: 0.2914 - val_accuracy: 0.8956\n",
            "Epoch 30/30\n",
            "1719/1719 [==============================] - 9s 5ms/step - loss: 0.2275 - accuracy: 0.9176 - val_loss: 0.2840 - val_accuracy: 0.8960\n"
          ]
        }
      ]
    },
    {
      "cell_type": "markdown",
      "metadata": {
        "id": "8MhopdI2xmLd"
      },
      "source": [
        "Ahora vamos a comprobar las variables loss, accuracy, validation_loss y validation_accuracy"
      ]
    },
    {
      "cell_type": "code",
      "metadata": {
        "id": "yTh-SWQextTq",
        "colab": {
          "base_uri": "https://localhost:8080/",
          "height": 451
        },
        "outputId": "f4bbd71f-874a-415d-fec9-b1b26b763af3"
      },
      "source": [
        "import pandas as pd\n",
        "import matplotlib.pyplot as plt\n",
        "\n",
        "pd.DataFrame(history.history).plot(figsize=(8,5))\n",
        "plt.grid(True)\n",
        "plt.gca().set_ylim(0,1)\n",
        "plt.show()"
      ],
      "execution_count": null,
      "outputs": [
        {
          "output_type": "display_data",
          "data": {
            "text/plain": [
              "<Figure size 800x500 with 1 Axes>"
            ],
            "image/png": "[encoded data removed]"
          },
          "metadata": {}
        }
      ]
    },
    {
      "cell_type": "markdown",
      "metadata": {
        "id": "-uhbE6HiyRBL"
      },
      "source": [
        "Las curvas training accuracy y validation accuracy  se van incrementando durante el entrenamiento, mientras que las loss se hacen mas pequeñas"
      ]
    },
    {
      "cell_type": "code",
      "metadata": {
        "id": "3uOZOelayj5W",
        "colab": {
          "base_uri": "https://localhost:8080/"
        },
        "outputId": "19ed4046-dab7-4d3a-a4b5-e9b0eae0c46c"
      },
      "source": [
        "model.evaluate(X_test,y_test)"
      ],
      "execution_count": null,
      "outputs": [
        {
          "output_type": "stream",
          "name": "stdout",
          "text": [
            "313/313 [==============================] - 1s 3ms/step - loss: 65.6220 - accuracy: 0.8449\n"
          ]
        },
        {
          "output_type": "execute_result",
          "data": {
            "text/plain": [
              "[65.6220474243164, 0.8449000120162964]"
            ]
          },
          "metadata": {},
          "execution_count": 62
        }
      ]
    },
    {
      "cell_type": "code",
      "source": [],
      "metadata": {
        "id": "bYXBrFr2n2li"
      },
      "execution_count": null,
      "outputs": []
    }
  ]
}